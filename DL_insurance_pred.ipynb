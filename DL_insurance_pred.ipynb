{
  "cells": [
    {
      "cell_type": "markdown",
      "metadata": {
        "id": "view-in-github",
        "colab_type": "text"
      },
      "source": [
        "<a href=\"https://colab.research.google.com/github/Fayeemshaik/Health-insurance-cost-prediction-deep-learning-/blob/main/DL_insurance_pred.ipynb\" target=\"_parent\"><img src=\"https://colab.research.google.com/assets/colab-badge.svg\" alt=\"Open In Colab\"/></a>"
      ]
    },
    {
      "cell_type": "markdown",
      "metadata": {
        "id": "bwBCQl5b6J8J"
      },
      "source": [
        "#**PROJECT ON HEALTH INSURANCE CLAIM AMOUNT PREDICTION**\n"
      ]
    },
    {
      "cell_type": "markdown",
      "metadata": {
        "id": "6e86FI-36W4K"
      },
      "source": [
        "##**problem statement**\n",
        "A key challenge for the insurance industry is to charge each customer an appropriate premium for the risk they represent. The ability to predict a correct claim amount has a significant impact on insurer's management decisions and financial statements. Predicting the cost of claims in an insurance company is a real-life problem that needs to be solved in a more accurate and automated way. Several factors determine the cost of claims based on health factors like BMI, age, smoker, health conditions and others. Insurance companies apply numerous techniques for analyzing and predicting health insurance costs"
      ]
    },
    {
      "cell_type": "markdown",
      "metadata": {
        "id": "Syi8K42h6W-K"
      },
      "source": [
        "##**Data Definition**\n",
        "**age** : Age of the policyholder (Numeric)\n",
        "\n",
        "**sex**: Gender of policyholder (Categoric)\n",
        "\n",
        "**weight**: Weight of the policyholder (Numeric)\n",
        "\n",
        "**bmi**: Body mass index, providing an understanding of body, weights that are relatively high or low relative to height, objective index of body weight (kg / m ^ 2) using the ratio of height to weight (Numeric)\n",
        "\n",
        "**no_of_dependents**: Number of dependent persons on the policyholder (Numeric)\n",
        "\n",
        "**smoker**: Indicates policyholder is a smoker or a non-smoker (non-smoker=0;smoker=1) (Categoric)\n",
        "\n",
        "**claim**: The amount claimed by the policyholder (Numeric)\n",
        "\n",
        "**bloodpressure**: Bloodpressure reading of policyholder (Numeric)\n",
        "\n",
        "**diabetes**: Indicates policyholder suffers from diabetes or not (non-diabetic=0; diabetic=1) (Categoric)\n",
        "\n",
        "**regular_ex**: A policyholder regularly excercises or not (no-excercise=0; excercise=1) (Categoric)\n",
        "\n",
        "**job_title**: Job profile of the policyholder (Categoric)\n",
        "\n",
        "**city**: The city in which the policyholder resides (Categoric)\n",
        "\n",
        "**hereditary_diseases**: A policyholder suffering from a hereditary diseases or not (Categoric)"
      ]
    },
    {
      "cell_type": "markdown",
      "metadata": {
        "id": "whhQ8FMg6skq"
      },
      "source": [
        "#**importing libraries**"
      ]
    },
    {
      "cell_type": "code",
      "execution_count": 93,
      "metadata": {
        "id": "RuvjujdsuzlA"
      },
      "outputs": [],
      "source": [
        "# 'Numpy' is used for mathematical operations on large, multi-dimensional arrays and matrices\n",
        "import numpy as np\n",
        "# 'Pandas' is used for data manipulation and analysis\n",
        "import pandas as pd\n",
        "# 'Matplotlib' is a data visualization library for 2D and 3D plots, built on numpy\n",
        "import matplotlib.pyplot as plt\n",
        "# 'Seaborn' is based on matplotlib; used for plotting statistical graphics\n",
        "import seaborn as sns"
      ]
    },
    {
      "cell_type": "code",
      "execution_count": 94,
      "metadata": {
        "id": "h6JOZTvZvNeM"
      },
      "outputs": [],
      "source": [
        "import tensorflow as tf\n",
        "import keras"
      ]
    },
    {
      "cell_type": "markdown",
      "metadata": {
        "id": "-bMbMl5a6XCz"
      },
      "source": [
        "#**importing dataset**"
      ]
    },
    {
      "cell_type": "code",
      "execution_count": 95,
      "metadata": {
        "colab": {
          "base_uri": "https://localhost:8080/",
          "height": 112
        },
        "id": "wZ6m0S9svPnZ",
        "outputId": "2ea34464-1ddb-450e-f1f9-95f2354516c8"
      },
      "outputs": [
        {
          "output_type": "execute_result",
          "data": {
            "text/plain": [
              "       age   sex  weight   bmi hereditary_diseases  no_of_dependents  smoker  \\\n",
              "5843  45.0  male      54   NaN           NoDisease                 0       1   \n",
              "8277  18.0  male      52  26.1           NoDisease                 0       0   \n",
              "\n",
              "         city  bloodpressure  diabetes  regular_ex job_title    claim  \n",
              "5843  Raleigh             66         1           0    Farmer  62592.9  \n",
              "8277  Buffalo             66         0           0   Student   1708.9  "
            ],
            "text/html": [
              "\n",
              "  <div id=\"df-ceac333d-dfc7-47b9-9bce-264d93aac5f6\">\n",
              "    <div class=\"colab-df-container\">\n",
              "      <div>\n",
              "<style scoped>\n",
              "    .dataframe tbody tr th:only-of-type {\n",
              "        vertical-align: middle;\n",
              "    }\n",
              "\n",
              "    .dataframe tbody tr th {\n",
              "        vertical-align: top;\n",
              "    }\n",
              "\n",
              "    .dataframe thead th {\n",
              "        text-align: right;\n",
              "    }\n",
              "</style>\n",
              "<table border=\"1\" class=\"dataframe\">\n",
              "  <thead>\n",
              "    <tr style=\"text-align: right;\">\n",
              "      <th></th>\n",
              "      <th>age</th>\n",
              "      <th>sex</th>\n",
              "      <th>weight</th>\n",
              "      <th>bmi</th>\n",
              "      <th>hereditary_diseases</th>\n",
              "      <th>no_of_dependents</th>\n",
              "      <th>smoker</th>\n",
              "      <th>city</th>\n",
              "      <th>bloodpressure</th>\n",
              "      <th>diabetes</th>\n",
              "      <th>regular_ex</th>\n",
              "      <th>job_title</th>\n",
              "      <th>claim</th>\n",
              "    </tr>\n",
              "  </thead>\n",
              "  <tbody>\n",
              "    <tr>\n",
              "      <th>5843</th>\n",
              "      <td>45.0</td>\n",
              "      <td>male</td>\n",
              "      <td>54</td>\n",
              "      <td>NaN</td>\n",
              "      <td>NoDisease</td>\n",
              "      <td>0</td>\n",
              "      <td>1</td>\n",
              "      <td>Raleigh</td>\n",
              "      <td>66</td>\n",
              "      <td>1</td>\n",
              "      <td>0</td>\n",
              "      <td>Farmer</td>\n",
              "      <td>62592.9</td>\n",
              "    </tr>\n",
              "    <tr>\n",
              "      <th>8277</th>\n",
              "      <td>18.0</td>\n",
              "      <td>male</td>\n",
              "      <td>52</td>\n",
              "      <td>26.1</td>\n",
              "      <td>NoDisease</td>\n",
              "      <td>0</td>\n",
              "      <td>0</td>\n",
              "      <td>Buffalo</td>\n",
              "      <td>66</td>\n",
              "      <td>0</td>\n",
              "      <td>0</td>\n",
              "      <td>Student</td>\n",
              "      <td>1708.9</td>\n",
              "    </tr>\n",
              "  </tbody>\n",
              "</table>\n",
              "</div>\n",
              "      <button class=\"colab-df-convert\" onclick=\"convertToInteractive('df-ceac333d-dfc7-47b9-9bce-264d93aac5f6')\"\n",
              "              title=\"Convert this dataframe to an interactive table.\"\n",
              "              style=\"display:none;\">\n",
              "        \n",
              "  <svg xmlns=\"http://www.w3.org/2000/svg\" height=\"24px\"viewBox=\"0 0 24 24\"\n",
              "       width=\"24px\">\n",
              "    <path d=\"M0 0h24v24H0V0z\" fill=\"none\"/>\n",
              "    <path d=\"M18.56 5.44l.94 2.06.94-2.06 2.06-.94-2.06-.94-.94-2.06-.94 2.06-2.06.94zm-11 1L8.5 8.5l.94-2.06 2.06-.94-2.06-.94L8.5 2.5l-.94 2.06-2.06.94zm10 10l.94 2.06.94-2.06 2.06-.94-2.06-.94-.94-2.06-.94 2.06-2.06.94z\"/><path d=\"M17.41 7.96l-1.37-1.37c-.4-.4-.92-.59-1.43-.59-.52 0-1.04.2-1.43.59L10.3 9.45l-7.72 7.72c-.78.78-.78 2.05 0 2.83L4 21.41c.39.39.9.59 1.41.59.51 0 1.02-.2 1.41-.59l7.78-7.78 2.81-2.81c.8-.78.8-2.07 0-2.86zM5.41 20L4 18.59l7.72-7.72 1.47 1.35L5.41 20z\"/>\n",
              "  </svg>\n",
              "      </button>\n",
              "      \n",
              "  <style>\n",
              "    .colab-df-container {\n",
              "      display:flex;\n",
              "      flex-wrap:wrap;\n",
              "      gap: 12px;\n",
              "    }\n",
              "\n",
              "    .colab-df-convert {\n",
              "      background-color: #E8F0FE;\n",
              "      border: none;\n",
              "      border-radius: 50%;\n",
              "      cursor: pointer;\n",
              "      display: none;\n",
              "      fill: #1967D2;\n",
              "      height: 32px;\n",
              "      padding: 0 0 0 0;\n",
              "      width: 32px;\n",
              "    }\n",
              "\n",
              "    .colab-df-convert:hover {\n",
              "      background-color: #E2EBFA;\n",
              "      box-shadow: 0px 1px 2px rgba(60, 64, 67, 0.3), 0px 1px 3px 1px rgba(60, 64, 67, 0.15);\n",
              "      fill: #174EA6;\n",
              "    }\n",
              "\n",
              "    [theme=dark] .colab-df-convert {\n",
              "      background-color: #3B4455;\n",
              "      fill: #D2E3FC;\n",
              "    }\n",
              "\n",
              "    [theme=dark] .colab-df-convert:hover {\n",
              "      background-color: #434B5C;\n",
              "      box-shadow: 0px 1px 3px 1px rgba(0, 0, 0, 0.15);\n",
              "      filter: drop-shadow(0px 1px 2px rgba(0, 0, 0, 0.3));\n",
              "      fill: #FFFFFF;\n",
              "    }\n",
              "  </style>\n",
              "\n",
              "      <script>\n",
              "        const buttonEl =\n",
              "          document.querySelector('#df-ceac333d-dfc7-47b9-9bce-264d93aac5f6 button.colab-df-convert');\n",
              "        buttonEl.style.display =\n",
              "          google.colab.kernel.accessAllowed ? 'block' : 'none';\n",
              "\n",
              "        async function convertToInteractive(key) {\n",
              "          const element = document.querySelector('#df-ceac333d-dfc7-47b9-9bce-264d93aac5f6');\n",
              "          const dataTable =\n",
              "            await google.colab.kernel.invokeFunction('convertToInteractive',\n",
              "                                                     [key], {});\n",
              "          if (!dataTable) return;\n",
              "\n",
              "          const docLinkHtml = 'Like what you see? Visit the ' +\n",
              "            '<a target=\"_blank\" href=https://colab.research.google.com/notebooks/data_table.ipynb>data table notebook</a>'\n",
              "            + ' to learn more about interactive tables.';\n",
              "          element.innerHTML = '';\n",
              "          dataTable['output_type'] = 'display_data';\n",
              "          await google.colab.output.renderOutput(dataTable, element);\n",
              "          const docLink = document.createElement('div');\n",
              "          docLink.innerHTML = docLinkHtml;\n",
              "          element.appendChild(docLink);\n",
              "        }\n",
              "      </script>\n",
              "    </div>\n",
              "  </div>\n",
              "  "
            ]
          },
          "metadata": {},
          "execution_count": 95
        }
      ],
      "source": [
        "df=pd.read_csv(\"/content/drive/MyDrive/Academic_projects/DMMLT_project/healthinsurance.csv\")\n",
        "df.sample(2)"
      ]
    },
    {
      "cell_type": "code",
      "execution_count": 96,
      "metadata": {
        "colab": {
          "base_uri": "https://localhost:8080/"
        },
        "id": "7OBJBFBMvjR6",
        "outputId": "3e524d57-6be5-4fe6-ce88-79282c409ef3"
      },
      "outputs": [
        {
          "output_type": "execute_result",
          "data": {
            "text/plain": [
              "age                    float64\n",
              "sex                     object\n",
              "weight                   int64\n",
              "bmi                    float64\n",
              "hereditary_diseases     object\n",
              "no_of_dependents         int64\n",
              "smoker                   int64\n",
              "city                    object\n",
              "bloodpressure            int64\n",
              "diabetes                 int64\n",
              "regular_ex               int64\n",
              "job_title               object\n",
              "claim                  float64\n",
              "dtype: object"
            ]
          },
          "metadata": {},
          "execution_count": 96
        }
      ],
      "source": [
        "df.dtypes"
      ]
    },
    {
      "cell_type": "code",
      "execution_count": 97,
      "metadata": {
        "id": "Hvz-fOTEd9cU"
      },
      "outputs": [],
      "source": [
        "df.drop(['city'],axis=1,inplace=True)"
      ]
    },
    {
      "cell_type": "code",
      "execution_count": 98,
      "metadata": {
        "id": "vZVcYqQ2v9Wk"
      },
      "outputs": [],
      "source": [
        "#convertng to appropriate data types\n",
        "df['smoker']=df['smoker'].astype(object)\n",
        "df['diabetes']=df['diabetes'].astype(object)\n",
        "df['regular_ex']=df['regular_ex'].astype(object)"
      ]
    },
    {
      "cell_type": "code",
      "execution_count": 99,
      "metadata": {
        "colab": {
          "base_uri": "https://localhost:8080/"
        },
        "id": "IiKZrfCgxVVz",
        "outputId": "aa770d64-56a8-4f6b-8d30-a9740c75bff2"
      },
      "outputs": [
        {
          "output_type": "execute_result",
          "data": {
            "text/plain": [
              "age                    float64\n",
              "sex                     object\n",
              "weight                   int64\n",
              "bmi                    float64\n",
              "hereditary_diseases     object\n",
              "no_of_dependents         int64\n",
              "smoker                  object\n",
              "bloodpressure            int64\n",
              "diabetes                object\n",
              "regular_ex              object\n",
              "job_title               object\n",
              "claim                  float64\n",
              "dtype: object"
            ]
          },
          "metadata": {},
          "execution_count": 99
        }
      ],
      "source": [
        "df.dtypes"
      ]
    },
    {
      "cell_type": "code",
      "execution_count": 100,
      "metadata": {
        "colab": {
          "base_uri": "https://localhost:8080/"
        },
        "id": "aut_WGZFRMW9",
        "outputId": "5decddf3-7759-4662-8025-a5b89a92610e"
      },
      "outputs": [
        {
          "output_type": "execute_result",
          "data": {
            "text/plain": [
              "age                    396\n",
              "sex                      0\n",
              "weight                   0\n",
              "bmi                    956\n",
              "hereditary_diseases      0\n",
              "no_of_dependents         0\n",
              "smoker                   0\n",
              "bloodpressure            0\n",
              "diabetes                 0\n",
              "regular_ex               0\n",
              "job_title                0\n",
              "claim                    0\n",
              "dtype: int64"
            ]
          },
          "metadata": {},
          "execution_count": 100
        }
      ],
      "source": [
        "#checking for missing values\n",
        "df.isnull().sum()"
      ]
    },
    {
      "cell_type": "markdown",
      "source": [
        "#**Visualize Missing Values using Heatmap**"
      ],
      "metadata": {
        "id": "ghyX4GZYy6Nv"
      }
    },
    {
      "cell_type": "code",
      "source": [
        "plt.figure(figsize=(20,10))\n",
        "sns.heatmap(df.isnull(),cbar=False,yticklabels=False,cmap='viridis')"
      ],
      "metadata": {
        "colab": {
          "base_uri": "https://localhost:8080/",
          "height": 699
        },
        "id": "xXffU-P2y2Z2",
        "outputId": "82230814-0995-4192-98f9-4987ad90680c"
      },
      "execution_count": 101,
      "outputs": [
        {
          "output_type": "execute_result",
          "data": {
            "text/plain": [
              "<matplotlib.axes._subplots.AxesSubplot at 0x7f76abdc3070>"
            ]
          },
          "metadata": {},
          "execution_count": 101
        },
        {
          "output_type": "display_data",
          "data": {
            "text/plain": [
              "<Figure size 1440x720 with 1 Axes>"
            ],
            "image/png": "[encoded data removed]"
          },
          "metadata": {
            "needs_background": "light"
          }
        }
      ]
    },
    {
      "cell_type": "code",
      "execution_count": 102,
      "metadata": {
        "id": "HXAqetOmRWc4"
      },
      "outputs": [],
      "source": [
        "#missing values treatment\n",
        "df['age'].fillna(value=df['age'].mean(),inplace= True)\n",
        "df['bmi'].fillna(value=df['bmi'].mean(),inplace= True)"
      ]
    },
    {
      "cell_type": "code",
      "execution_count": 103,
      "metadata": {
        "colab": {
          "base_uri": "https://localhost:8080/"
        },
        "id": "NwpAORFQRWrH",
        "outputId": "dfd39127-2a3b-4805-9100-3b8521b8faab"
      },
      "outputs": [
        {
          "output_type": "execute_result",
          "data": {
            "text/plain": [
              "age                    0\n",
              "sex                    0\n",
              "weight                 0\n",
              "bmi                    0\n",
              "hereditary_diseases    0\n",
              "no_of_dependents       0\n",
              "smoker                 0\n",
              "bloodpressure          0\n",
              "diabetes               0\n",
              "regular_ex             0\n",
              "job_title              0\n",
              "claim                  0\n",
              "dtype: int64"
            ]
          },
          "metadata": {},
          "execution_count": 103
        }
      ],
      "source": [
        "#after treatment missing values\n",
        "df.isnull().sum()"
      ]
    },
    {
      "cell_type": "code",
      "source": [
        "plt.figure(figsize=(20,10))\n",
        "sns.heatmap(df.isnull(),cbar=False,yticklabels=False,cmap='viridis')"
      ],
      "metadata": {
        "colab": {
          "base_uri": "https://localhost:8080/",
          "height": 699
        },
        "id": "3KJ0nuFczVYR",
        "outputId": "5ac2894a-de6c-4ca9-c084-c8d072f87ada"
      },
      "execution_count": 104,
      "outputs": [
        {
          "output_type": "execute_result",
          "data": {
            "text/plain": [
              "<matplotlib.axes._subplots.AxesSubplot at 0x7f7632cf57c0>"
            ]
          },
          "metadata": {},
          "execution_count": 104
        },
        {
          "output_type": "display_data",
          "data": {
            "text/plain": [
              "<Figure size 1440x720 with 1 Axes>"
            ],
            "image/png": "[encoded data removed]"
          },
          "metadata": {
            "needs_background": "light"
          }
        }
      ]
    },
    {
      "cell_type": "code",
      "execution_count": 59,
      "metadata": {
        "id": "Xu_47wX9xXqj",
        "colab": {
          "base_uri": "https://localhost:8080/",
          "height": 205
        },
        "outputId": "bf430d80-af5b-4a35-dc8b-5736c6019d8a"
      },
      "outputs": [
        {
          "output_type": "execute_result",
          "data": {
            "text/plain": [
              "       age  weight   bmi  no_of_dependents  bloodpressure    claim  sex_male  \\\n",
              "3580  23.0      56  35.0                 3              0   4466.6         0   \n",
              "9110  34.0      65  22.4                 2             78  27375.9         1   \n",
              "\n",
              "      hereditary_diseases_Arthritis  hereditary_diseases_Cancer  \\\n",
              "3580                              0                           0   \n",
              "9110                              0                           0   \n",
              "\n",
              "      hereditary_diseases_Diabetes  ...  job_title_Journalist  \\\n",
              "3580                             0  ...                     0   \n",
              "9110                             0  ...                     0   \n",
              "\n",
              "      job_title_Labourer  job_title_Lawyer  job_title_Manager  \\\n",
              "3580                   0                 0                  0   \n",
              "9110                   0                 0                  0   \n",
              "\n",
              "      job_title_Photographer  job_title_Police  job_title_Politician  \\\n",
              "3580                       0                 0                     0   \n",
              "9110                       0                 0                     0   \n",
              "\n",
              "      job_title_Singer  job_title_Student  job_title_Technician  \n",
              "3580                 0                  0                     1  \n",
              "9110                 0                  0                     0  \n",
              "\n",
              "[2 rows x 53 columns]"
            ],
            "text/html": [
              "\n",
              "  <div id=\"df-1e5a71c7-82b0-4394-8b70-d9fff63d9766\">\n",
              "    <div class=\"colab-df-container\">\n",
              "      <div>\n",
              "<style scoped>\n",
              "    .dataframe tbody tr th:only-of-type {\n",
              "        vertical-align: middle;\n",
              "    }\n",
              "\n",
              "    .dataframe tbody tr th {\n",
              "        vertical-align: top;\n",
              "    }\n",
              "\n",
              "    .dataframe thead th {\n",
              "        text-align: right;\n",
              "    }\n",
              "</style>\n",
              "<table border=\"1\" class=\"dataframe\">\n",
              "  <thead>\n",
              "    <tr style=\"text-align: right;\">\n",
              "      <th></th>\n",
              "      <th>age</th>\n",
              "      <th>weight</th>\n",
              "      <th>bmi</th>\n",
              "      <th>no_of_dependents</th>\n",
              "      <th>bloodpressure</th>\n",
              "      <th>claim</th>\n",
              "      <th>sex_male</th>\n",
              "      <th>hereditary_diseases_Arthritis</th>\n",
              "      <th>hereditary_diseases_Cancer</th>\n",
              "      <th>hereditary_diseases_Diabetes</th>\n",
              "      <th>...</th>\n",
              "      <th>job_title_Journalist</th>\n",
              "      <th>job_title_Labourer</th>\n",
              "      <th>job_title_Lawyer</th>\n",
              "      <th>job_title_Manager</th>\n",
              "      <th>job_title_Photographer</th>\n",
              "      <th>job_title_Police</th>\n",
              "      <th>job_title_Politician</th>\n",
              "      <th>job_title_Singer</th>\n",
              "      <th>job_title_Student</th>\n",
              "      <th>job_title_Technician</th>\n",
              "    </tr>\n",
              "  </thead>\n",
              "  <tbody>\n",
              "    <tr>\n",
              "      <th>3580</th>\n",
              "      <td>23.0</td>\n",
              "      <td>56</td>\n",
              "      <td>35.0</td>\n",
              "      <td>3</td>\n",
              "      <td>0</td>\n",
              "      <td>4466.6</td>\n",
              "      <td>0</td>\n",
              "      <td>0</td>\n",
              "      <td>0</td>\n",
              "      <td>0</td>\n",
              "      <td>...</td>\n",
              "      <td>0</td>\n",
              "      <td>0</td>\n",
              "      <td>0</td>\n",
              "      <td>0</td>\n",
              "      <td>0</td>\n",
              "      <td>0</td>\n",
              "      <td>0</td>\n",
              "      <td>0</td>\n",
              "      <td>0</td>\n",
              "      <td>1</td>\n",
              "    </tr>\n",
              "    <tr>\n",
              "      <th>9110</th>\n",
              "      <td>34.0</td>\n",
              "      <td>65</td>\n",
              "      <td>22.4</td>\n",
              "      <td>2</td>\n",
              "      <td>78</td>\n",
              "      <td>27375.9</td>\n",
              "      <td>1</td>\n",
              "      <td>0</td>\n",
              "      <td>0</td>\n",
              "      <td>0</td>\n",
              "      <td>...</td>\n",
              "      <td>0</td>\n",
              "      <td>0</td>\n",
              "      <td>0</td>\n",
              "      <td>0</td>\n",
              "      <td>0</td>\n",
              "      <td>0</td>\n",
              "      <td>0</td>\n",
              "      <td>0</td>\n",
              "      <td>0</td>\n",
              "      <td>0</td>\n",
              "    </tr>\n",
              "  </tbody>\n",
              "</table>\n",
              "<p>2 rows × 53 columns</p>\n",
              "</div>\n",
              "      <button class=\"colab-df-convert\" onclick=\"convertToInteractive('df-1e5a71c7-82b0-4394-8b70-d9fff63d9766')\"\n",
              "              title=\"Convert this dataframe to an interactive table.\"\n",
              "              style=\"display:none;\">\n",
              "        \n",
              "  <svg xmlns=\"http://www.w3.org/2000/svg\" height=\"24px\"viewBox=\"0 0 24 24\"\n",
              "       width=\"24px\">\n",
              "    <path d=\"M0 0h24v24H0V0z\" fill=\"none\"/>\n",
              "    <path d=\"M18.56 5.44l.94 2.06.94-2.06 2.06-.94-2.06-.94-.94-2.06-.94 2.06-2.06.94zm-11 1L8.5 8.5l.94-2.06 2.06-.94-2.06-.94L8.5 2.5l-.94 2.06-2.06.94zm10 10l.94 2.06.94-2.06 2.06-.94-2.06-.94-.94-2.06-.94 2.06-2.06.94z\"/><path d=\"M17.41 7.96l-1.37-1.37c-.4-.4-.92-.59-1.43-.59-.52 0-1.04.2-1.43.59L10.3 9.45l-7.72 7.72c-.78.78-.78 2.05 0 2.83L4 21.41c.39.39.9.59 1.41.59.51 0 1.02-.2 1.41-.59l7.78-7.78 2.81-2.81c.8-.78.8-2.07 0-2.86zM5.41 20L4 18.59l7.72-7.72 1.47 1.35L5.41 20z\"/>\n",
              "  </svg>\n",
              "      </button>\n",
              "      \n",
              "  <style>\n",
              "    .colab-df-container {\n",
              "      display:flex;\n",
              "      flex-wrap:wrap;\n",
              "      gap: 12px;\n",
              "    }\n",
              "\n",
              "    .colab-df-convert {\n",
              "      background-color: #E8F0FE;\n",
              "      border: none;\n",
              "      border-radius: 50%;\n",
              "      cursor: pointer;\n",
              "      display: none;\n",
              "      fill: #1967D2;\n",
              "      height: 32px;\n",
              "      padding: 0 0 0 0;\n",
              "      width: 32px;\n",
              "    }\n",
              "\n",
              "    .colab-df-convert:hover {\n",
              "      background-color: #E2EBFA;\n",
              "      box-shadow: 0px 1px 2px rgba(60, 64, 67, 0.3), 0px 1px 3px 1px rgba(60, 64, 67, 0.15);\n",
              "      fill: #174EA6;\n",
              "    }\n",
              "\n",
              "    [theme=dark] .colab-df-convert {\n",
              "      background-color: #3B4455;\n",
              "      fill: #D2E3FC;\n",
              "    }\n",
              "\n",
              "    [theme=dark] .colab-df-convert:hover {\n",
              "      background-color: #434B5C;\n",
              "      box-shadow: 0px 1px 3px 1px rgba(0, 0, 0, 0.15);\n",
              "      filter: drop-shadow(0px 1px 2px rgba(0, 0, 0, 0.3));\n",
              "      fill: #FFFFFF;\n",
              "    }\n",
              "  </style>\n",
              "\n",
              "      <script>\n",
              "        const buttonEl =\n",
              "          document.querySelector('#df-1e5a71c7-82b0-4394-8b70-d9fff63d9766 button.colab-df-convert');\n",
              "        buttonEl.style.display =\n",
              "          google.colab.kernel.accessAllowed ? 'block' : 'none';\n",
              "\n",
              "        async function convertToInteractive(key) {\n",
              "          const element = document.querySelector('#df-1e5a71c7-82b0-4394-8b70-d9fff63d9766');\n",
              "          const dataTable =\n",
              "            await google.colab.kernel.invokeFunction('convertToInteractive',\n",
              "                                                     [key], {});\n",
              "          if (!dataTable) return;\n",
              "\n",
              "          const docLinkHtml = 'Like what you see? Visit the ' +\n",
              "            '<a target=\"_blank\" href=https://colab.research.google.com/notebooks/data_table.ipynb>data table notebook</a>'\n",
              "            + ' to learn more about interactive tables.';\n",
              "          element.innerHTML = '';\n",
              "          dataTable['output_type'] = 'display_data';\n",
              "          await google.colab.output.renderOutput(dataTable, element);\n",
              "          const docLink = document.createElement('div');\n",
              "          docLink.innerHTML = docLinkHtml;\n",
              "          element.appendChild(docLink);\n",
              "        }\n",
              "      </script>\n",
              "    </div>\n",
              "  </div>\n",
              "  "
            ]
          },
          "metadata": {},
          "execution_count": 59
        }
      ],
      "source": [
        "#creating dummy variables for categorical variables\n",
        "df=pd.get_dummies(df,drop_first=True)\n",
        "df.sample(2)"
      ]
    },
    {
      "cell_type": "code",
      "execution_count": 60,
      "metadata": {
        "colab": {
          "base_uri": "https://localhost:8080/"
        },
        "id": "_-3v-4Pmzti-",
        "outputId": "0032102f-cdb0-469c-d378-4431fb0eeee5"
      },
      "outputs": [
        {
          "output_type": "execute_result",
          "data": {
            "text/plain": [
              "(15000, 53)"
            ]
          },
          "metadata": {},
          "execution_count": 60
        }
      ],
      "source": [
        "df.shape"
      ]
    },
    {
      "cell_type": "code",
      "execution_count": 61,
      "metadata": {
        "id": "V4_dqrOC0LHq"
      },
      "outputs": [],
      "source": [
        "#independent and depndent\n",
        "x=df.drop(['claim'],axis=1)\n",
        "y=pd.DataFrame(df.claim)"
      ]
    },
    {
      "cell_type": "code",
      "execution_count": 62,
      "metadata": {
        "colab": {
          "base_uri": "https://localhost:8080/",
          "height": 423
        },
        "id": "7R-2YijP3zy9",
        "outputId": "0a565f3d-d218-454d-a970-30c0dff733ef"
      },
      "outputs": [
        {
          "output_type": "execute_result",
          "data": {
            "text/plain": [
              "         claim\n",
              "0      13112.6\n",
              "1       9567.0\n",
              "2      32734.2\n",
              "3      48517.6\n",
              "4       1731.7\n",
              "...        ...\n",
              "14995  21082.2\n",
              "14996   7512.3\n",
              "14997   1391.5\n",
              "14998   9144.6\n",
              "14999  25992.8\n",
              "\n",
              "[15000 rows x 1 columns]"
            ],
            "text/html": [
              "\n",
              "  <div id=\"df-c7eac7d8-a6ca-42b6-882e-6dec76354933\">\n",
              "    <div class=\"colab-df-container\">\n",
              "      <div>\n",
              "<style scoped>\n",
              "    .dataframe tbody tr th:only-of-type {\n",
              "        vertical-align: middle;\n",
              "    }\n",
              "\n",
              "    .dataframe tbody tr th {\n",
              "        vertical-align: top;\n",
              "    }\n",
              "\n",
              "    .dataframe thead th {\n",
              "        text-align: right;\n",
              "    }\n",
              "</style>\n",
              "<table border=\"1\" class=\"dataframe\">\n",
              "  <thead>\n",
              "    <tr style=\"text-align: right;\">\n",
              "      <th></th>\n",
              "      <th>claim</th>\n",
              "    </tr>\n",
              "  </thead>\n",
              "  <tbody>\n",
              "    <tr>\n",
              "      <th>0</th>\n",
              "      <td>13112.6</td>\n",
              "    </tr>\n",
              "    <tr>\n",
              "      <th>1</th>\n",
              "      <td>9567.0</td>\n",
              "    </tr>\n",
              "    <tr>\n",
              "      <th>2</th>\n",
              "      <td>32734.2</td>\n",
              "    </tr>\n",
              "    <tr>\n",
              "      <th>3</th>\n",
              "      <td>48517.6</td>\n",
              "    </tr>\n",
              "    <tr>\n",
              "      <th>4</th>\n",
              "      <td>1731.7</td>\n",
              "    </tr>\n",
              "    <tr>\n",
              "      <th>...</th>\n",
              "      <td>...</td>\n",
              "    </tr>\n",
              "    <tr>\n",
              "      <th>14995</th>\n",
              "      <td>21082.2</td>\n",
              "    </tr>\n",
              "    <tr>\n",
              "      <th>14996</th>\n",
              "      <td>7512.3</td>\n",
              "    </tr>\n",
              "    <tr>\n",
              "      <th>14997</th>\n",
              "      <td>1391.5</td>\n",
              "    </tr>\n",
              "    <tr>\n",
              "      <th>14998</th>\n",
              "      <td>9144.6</td>\n",
              "    </tr>\n",
              "    <tr>\n",
              "      <th>14999</th>\n",
              "      <td>25992.8</td>\n",
              "    </tr>\n",
              "  </tbody>\n",
              "</table>\n",
              "<p>15000 rows × 1 columns</p>\n",
              "</div>\n",
              "      <button class=\"colab-df-convert\" onclick=\"convertToInteractive('df-c7eac7d8-a6ca-42b6-882e-6dec76354933')\"\n",
              "              title=\"Convert this dataframe to an interactive table.\"\n",
              "              style=\"display:none;\">\n",
              "        \n",
              "  <svg xmlns=\"http://www.w3.org/2000/svg\" height=\"24px\"viewBox=\"0 0 24 24\"\n",
              "       width=\"24px\">\n",
              "    <path d=\"M0 0h24v24H0V0z\" fill=\"none\"/>\n",
              "    <path d=\"M18.56 5.44l.94 2.06.94-2.06 2.06-.94-2.06-.94-.94-2.06-.94 2.06-2.06.94zm-11 1L8.5 8.5l.94-2.06 2.06-.94-2.06-.94L8.5 2.5l-.94 2.06-2.06.94zm10 10l.94 2.06.94-2.06 2.06-.94-2.06-.94-.94-2.06-.94 2.06-2.06.94z\"/><path d=\"M17.41 7.96l-1.37-1.37c-.4-.4-.92-.59-1.43-.59-.52 0-1.04.2-1.43.59L10.3 9.45l-7.72 7.72c-.78.78-.78 2.05 0 2.83L4 21.41c.39.39.9.59 1.41.59.51 0 1.02-.2 1.41-.59l7.78-7.78 2.81-2.81c.8-.78.8-2.07 0-2.86zM5.41 20L4 18.59l7.72-7.72 1.47 1.35L5.41 20z\"/>\n",
              "  </svg>\n",
              "      </button>\n",
              "      \n",
              "  <style>\n",
              "    .colab-df-container {\n",
              "      display:flex;\n",
              "      flex-wrap:wrap;\n",
              "      gap: 12px;\n",
              "    }\n",
              "\n",
              "    .colab-df-convert {\n",
              "      background-color: #E8F0FE;\n",
              "      border: none;\n",
              "      border-radius: 50%;\n",
              "      cursor: pointer;\n",
              "      display: none;\n",
              "      fill: #1967D2;\n",
              "      height: 32px;\n",
              "      padding: 0 0 0 0;\n",
              "      width: 32px;\n",
              "    }\n",
              "\n",
              "    .colab-df-convert:hover {\n",
              "      background-color: #E2EBFA;\n",
              "      box-shadow: 0px 1px 2px rgba(60, 64, 67, 0.3), 0px 1px 3px 1px rgba(60, 64, 67, 0.15);\n",
              "      fill: #174EA6;\n",
              "    }\n",
              "\n",
              "    [theme=dark] .colab-df-convert {\n",
              "      background-color: #3B4455;\n",
              "      fill: #D2E3FC;\n",
              "    }\n",
              "\n",
              "    [theme=dark] .colab-df-convert:hover {\n",
              "      background-color: #434B5C;\n",
              "      box-shadow: 0px 1px 3px 1px rgba(0, 0, 0, 0.15);\n",
              "      filter: drop-shadow(0px 1px 2px rgba(0, 0, 0, 0.3));\n",
              "      fill: #FFFFFF;\n",
              "    }\n",
              "  </style>\n",
              "\n",
              "      <script>\n",
              "        const buttonEl =\n",
              "          document.querySelector('#df-c7eac7d8-a6ca-42b6-882e-6dec76354933 button.colab-df-convert');\n",
              "        buttonEl.style.display =\n",
              "          google.colab.kernel.accessAllowed ? 'block' : 'none';\n",
              "\n",
              "        async function convertToInteractive(key) {\n",
              "          const element = document.querySelector('#df-c7eac7d8-a6ca-42b6-882e-6dec76354933');\n",
              "          const dataTable =\n",
              "            await google.colab.kernel.invokeFunction('convertToInteractive',\n",
              "                                                     [key], {});\n",
              "          if (!dataTable) return;\n",
              "\n",
              "          const docLinkHtml = 'Like what you see? Visit the ' +\n",
              "            '<a target=\"_blank\" href=https://colab.research.google.com/notebooks/data_table.ipynb>data table notebook</a>'\n",
              "            + ' to learn more about interactive tables.';\n",
              "          element.innerHTML = '';\n",
              "          dataTable['output_type'] = 'display_data';\n",
              "          await google.colab.output.renderOutput(dataTable, element);\n",
              "          const docLink = document.createElement('div');\n",
              "          docLink.innerHTML = docLinkHtml;\n",
              "          element.appendChild(docLink);\n",
              "        }\n",
              "      </script>\n",
              "    </div>\n",
              "  </div>\n",
              "  "
            ]
          },
          "metadata": {},
          "execution_count": 62
        }
      ],
      "source": [
        "y"
      ]
    },
    {
      "cell_type": "code",
      "execution_count": 63,
      "metadata": {
        "colab": {
          "base_uri": "https://localhost:8080/",
          "height": 487
        },
        "id": "Aa4rXw8vYuQJ",
        "outputId": "2fec4b02-72f4-4f8c-acc2-31ddc6271e91"
      },
      "outputs": [
        {
          "output_type": "execute_result",
          "data": {
            "text/plain": [
              "        age  weight   bmi  no_of_dependents  bloodpressure  sex_male  \\\n",
              "0      60.0      64  24.3                 1             72         1   \n",
              "1      49.0      75  22.6                 1             78         0   \n",
              "2      32.0      64  17.8                 2             88         0   \n",
              "3      61.0      53  36.4                 1             72         0   \n",
              "4      19.0      50  20.6                 0             82         0   \n",
              "...     ...     ...   ...               ...            ...       ...   \n",
              "14995  39.0      49  28.3                 1             54         1   \n",
              "14996  39.0      74  29.6                 4             64         1   \n",
              "14997  20.0      62  33.3                 0             52         1   \n",
              "14998  52.0      88  36.7                 0             70         1   \n",
              "14999  52.0      57  26.4                 3             72         1   \n",
              "\n",
              "       hereditary_diseases_Arthritis  hereditary_diseases_Cancer  \\\n",
              "0                                  0                           0   \n",
              "1                                  0                           0   \n",
              "2                                  0                           0   \n",
              "3                                  0                           0   \n",
              "4                                  0                           0   \n",
              "...                              ...                         ...   \n",
              "14995                              0                           0   \n",
              "14996                              0                           0   \n",
              "14997                              0                           0   \n",
              "14998                              0                           0   \n",
              "14999                              0                           0   \n",
              "\n",
              "       hereditary_diseases_Diabetes  hereditary_diseases_Epilepsy  ...  \\\n",
              "0                                 0                             0  ...   \n",
              "1                                 0                             0  ...   \n",
              "2                                 0                             1  ...   \n",
              "3                                 0                             0  ...   \n",
              "4                                 0                             0  ...   \n",
              "...                             ...                           ...  ...   \n",
              "14995                             0                             0  ...   \n",
              "14996                             0                             0  ...   \n",
              "14997                             0                             0  ...   \n",
              "14998                             0                             0  ...   \n",
              "14999                             0                             0  ...   \n",
              "\n",
              "       job_title_Journalist  job_title_Labourer  job_title_Lawyer  \\\n",
              "0                         0                   0                 0   \n",
              "1                         0                   0                 0   \n",
              "2                         0                   0                 0   \n",
              "3                         0                   0                 0   \n",
              "4                         0                   0                 0   \n",
              "...                     ...                 ...               ...   \n",
              "14995                     0                   0                 0   \n",
              "14996                     0                   0                 0   \n",
              "14997                     0                   0                 0   \n",
              "14998                     0                   0                 0   \n",
              "14999                     0                   0                 0   \n",
              "\n",
              "       job_title_Manager  job_title_Photographer  job_title_Police  \\\n",
              "0                      0                       0                 0   \n",
              "1                      0                       0                 0   \n",
              "2                      0                       0                 0   \n",
              "3                      0                       0                 0   \n",
              "4                      0                       0                 0   \n",
              "...                  ...                     ...               ...   \n",
              "14995                  0                       0                 0   \n",
              "14996                  0                       0                 0   \n",
              "14997                  0                       0                 0   \n",
              "14998                  0                       0                 0   \n",
              "14999                  1                       0                 0   \n",
              "\n",
              "       job_title_Politician  job_title_Singer  job_title_Student  \\\n",
              "0                         0                 0                  0   \n",
              "1                         0                 0                  0   \n",
              "2                         0                 0                  0   \n",
              "3                         0                 0                  0   \n",
              "4                         0                 0                  0   \n",
              "...                     ...               ...                ...   \n",
              "14995                     0                 0                  0   \n",
              "14996                     0                 0                  1   \n",
              "14997                     0                 0                  0   \n",
              "14998                     0                 0                  0   \n",
              "14999                     0                 0                  0   \n",
              "\n",
              "       job_title_Technician  \n",
              "0                         0  \n",
              "1                         0  \n",
              "2                         0  \n",
              "3                         0  \n",
              "4                         0  \n",
              "...                     ...  \n",
              "14995                     0  \n",
              "14996                     0  \n",
              "14997                     0  \n",
              "14998                     0  \n",
              "14999                     0  \n",
              "\n",
              "[15000 rows x 52 columns]"
            ],
            "text/html": [
              "\n",
              "  <div id=\"df-37f454e8-b8bb-4954-8a59-de87e1ecb830\">\n",
              "    <div class=\"colab-df-container\">\n",
              "      <div>\n",
              "<style scoped>\n",
              "    .dataframe tbody tr th:only-of-type {\n",
              "        vertical-align: middle;\n",
              "    }\n",
              "\n",
              "    .dataframe tbody tr th {\n",
              "        vertical-align: top;\n",
              "    }\n",
              "\n",
              "    .dataframe thead th {\n",
              "        text-align: right;\n",
              "    }\n",
              "</style>\n",
              "<table border=\"1\" class=\"dataframe\">\n",
              "  <thead>\n",
              "    <tr style=\"text-align: right;\">\n",
              "      <th></th>\n",
              "      <th>age</th>\n",
              "      <th>weight</th>\n",
              "      <th>bmi</th>\n",
              "      <th>no_of_dependents</th>\n",
              "      <th>bloodpressure</th>\n",
              "      <th>sex_male</th>\n",
              "      <th>hereditary_diseases_Arthritis</th>\n",
              "      <th>hereditary_diseases_Cancer</th>\n",
              "      <th>hereditary_diseases_Diabetes</th>\n",
              "      <th>hereditary_diseases_Epilepsy</th>\n",
              "      <th>...</th>\n",
              "      <th>job_title_Journalist</th>\n",
              "      <th>job_title_Labourer</th>\n",
              "      <th>job_title_Lawyer</th>\n",
              "      <th>job_title_Manager</th>\n",
              "      <th>job_title_Photographer</th>\n",
              "      <th>job_title_Police</th>\n",
              "      <th>job_title_Politician</th>\n",
              "      <th>job_title_Singer</th>\n",
              "      <th>job_title_Student</th>\n",
              "      <th>job_title_Technician</th>\n",
              "    </tr>\n",
              "  </thead>\n",
              "  <tbody>\n",
              "    <tr>\n",
              "      <th>0</th>\n",
              "      <td>60.0</td>\n",
              "      <td>64</td>\n",
              "      <td>24.3</td>\n",
              "      <td>1</td>\n",
              "      <td>72</td>\n",
              "      <td>1</td>\n",
              "      <td>0</td>\n",
              "      <td>0</td>\n",
              "      <td>0</td>\n",
              "      <td>0</td>\n",
              "      <td>...</td>\n",
              "      <td>0</td>\n",
              "      <td>0</td>\n",
              "      <td>0</td>\n",
              "      <td>0</td>\n",
              "      <td>0</td>\n",
              "      <td>0</td>\n",
              "      <td>0</td>\n",
              "      <td>0</td>\n",
              "      <td>0</td>\n",
              "      <td>0</td>\n",
              "    </tr>\n",
              "    <tr>\n",
              "      <th>1</th>\n",
              "      <td>49.0</td>\n",
              "      <td>75</td>\n",
              "      <td>22.6</td>\n",
              "      <td>1</td>\n",
              "      <td>78</td>\n",
              "      <td>0</td>\n",
              "      <td>0</td>\n",
              "      <td>0</td>\n",
              "      <td>0</td>\n",
              "      <td>0</td>\n",
              "      <td>...</td>\n",
              "      <td>0</td>\n",
              "      <td>0</td>\n",
              "      <td>0</td>\n",
              "      <td>0</td>\n",
              "      <td>0</td>\n",
              "      <td>0</td>\n",
              "      <td>0</td>\n",
              "      <td>0</td>\n",
              "      <td>0</td>\n",
              "      <td>0</td>\n",
              "    </tr>\n",
              "    <tr>\n",
              "      <th>2</th>\n",
              "      <td>32.0</td>\n",
              "      <td>64</td>\n",
              "      <td>17.8</td>\n",
              "      <td>2</td>\n",
              "      <td>88</td>\n",
              "      <td>0</td>\n",
              "      <td>0</td>\n",
              "      <td>0</td>\n",
              "      <td>0</td>\n",
              "      <td>1</td>\n",
              "      <td>...</td>\n",
              "      <td>0</td>\n",
              "      <td>0</td>\n",
              "      <td>0</td>\n",
              "      <td>0</td>\n",
              "      <td>0</td>\n",
              "      <td>0</td>\n",
              "      <td>0</td>\n",
              "      <td>0</td>\n",
              "      <td>0</td>\n",
              "      <td>0</td>\n",
              "    </tr>\n",
              "    <tr>\n",
              "      <th>3</th>\n",
              "      <td>61.0</td>\n",
              "      <td>53</td>\n",
              "      <td>36.4</td>\n",
              "      <td>1</td>\n",
              "      <td>72</td>\n",
              "      <td>0</td>\n",
              "      <td>0</td>\n",
              "      <td>0</td>\n",
              "      <td>0</td>\n",
              "      <td>0</td>\n",
              "      <td>...</td>\n",
              "      <td>0</td>\n",
              "      <td>0</td>\n",
              "      <td>0</td>\n",
              "      <td>0</td>\n",
              "      <td>0</td>\n",
              "      <td>0</td>\n",
              "      <td>0</td>\n",
              "      <td>0</td>\n",
              "      <td>0</td>\n",
              "      <td>0</td>\n",
              "    </tr>\n",
              "    <tr>\n",
              "      <th>4</th>\n",
              "      <td>19.0</td>\n",
              "      <td>50</td>\n",
              "      <td>20.6</td>\n",
              "      <td>0</td>\n",
              "      <td>82</td>\n",
              "      <td>0</td>\n",
              "      <td>0</td>\n",
              "      <td>0</td>\n",
              "      <td>0</td>\n",
              "      <td>0</td>\n",
              "      <td>...</td>\n",
              "      <td>0</td>\n",
              "      <td>0</td>\n",
              "      <td>0</td>\n",
              "      <td>0</td>\n",
              "      <td>0</td>\n",
              "      <td>0</td>\n",
              "      <td>0</td>\n",
              "      <td>0</td>\n",
              "      <td>0</td>\n",
              "      <td>0</td>\n",
              "    </tr>\n",
              "    <tr>\n",
              "      <th>...</th>\n",
              "      <td>...</td>\n",
              "      <td>...</td>\n",
              "      <td>...</td>\n",
              "      <td>...</td>\n",
              "      <td>...</td>\n",
              "      <td>...</td>\n",
              "      <td>...</td>\n",
              "      <td>...</td>\n",
              "      <td>...</td>\n",
              "      <td>...</td>\n",
              "      <td>...</td>\n",
              "      <td>...</td>\n",
              "      <td>...</td>\n",
              "      <td>...</td>\n",
              "      <td>...</td>\n",
              "      <td>...</td>\n",
              "      <td>...</td>\n",
              "      <td>...</td>\n",
              "      <td>...</td>\n",
              "      <td>...</td>\n",
              "      <td>...</td>\n",
              "    </tr>\n",
              "    <tr>\n",
              "      <th>14995</th>\n",
              "      <td>39.0</td>\n",
              "      <td>49</td>\n",
              "      <td>28.3</td>\n",
              "      <td>1</td>\n",
              "      <td>54</td>\n",
              "      <td>1</td>\n",
              "      <td>0</td>\n",
              "      <td>0</td>\n",
              "      <td>0</td>\n",
              "      <td>0</td>\n",
              "      <td>...</td>\n",
              "      <td>0</td>\n",
              "      <td>0</td>\n",
              "      <td>0</td>\n",
              "      <td>0</td>\n",
              "      <td>0</td>\n",
              "      <td>0</td>\n",
              "      <td>0</td>\n",
              "      <td>0</td>\n",
              "      <td>0</td>\n",
              "      <td>0</td>\n",
              "    </tr>\n",
              "    <tr>\n",
              "      <th>14996</th>\n",
              "      <td>39.0</td>\n",
              "      <td>74</td>\n",
              "      <td>29.6</td>\n",
              "      <td>4</td>\n",
              "      <td>64</td>\n",
              "      <td>1</td>\n",
              "      <td>0</td>\n",
              "      <td>0</td>\n",
              "      <td>0</td>\n",
              "      <td>0</td>\n",
              "      <td>...</td>\n",
              "      <td>0</td>\n",
              "      <td>0</td>\n",
              "      <td>0</td>\n",
              "      <td>0</td>\n",
              "      <td>0</td>\n",
              "      <td>0</td>\n",
              "      <td>0</td>\n",
              "      <td>0</td>\n",
              "      <td>1</td>\n",
              "      <td>0</td>\n",
              "    </tr>\n",
              "    <tr>\n",
              "      <th>14997</th>\n",
              "      <td>20.0</td>\n",
              "      <td>62</td>\n",
              "      <td>33.3</td>\n",
              "      <td>0</td>\n",
              "      <td>52</td>\n",
              "      <td>1</td>\n",
              "      <td>0</td>\n",
              "      <td>0</td>\n",
              "      <td>0</td>\n",
              "      <td>0</td>\n",
              "      <td>...</td>\n",
              "      <td>0</td>\n",
              "      <td>0</td>\n",
              "      <td>0</td>\n",
              "      <td>0</td>\n",
              "      <td>0</td>\n",
              "      <td>0</td>\n",
              "      <td>0</td>\n",
              "      <td>0</td>\n",
              "      <td>0</td>\n",
              "      <td>0</td>\n",
              "    </tr>\n",
              "    <tr>\n",
              "      <th>14998</th>\n",
              "      <td>52.0</td>\n",
              "      <td>88</td>\n",
              "      <td>36.7</td>\n",
              "      <td>0</td>\n",
              "      <td>70</td>\n",
              "      <td>1</td>\n",
              "      <td>0</td>\n",
              "      <td>0</td>\n",
              "      <td>0</td>\n",
              "      <td>0</td>\n",
              "      <td>...</td>\n",
              "      <td>0</td>\n",
              "      <td>0</td>\n",
              "      <td>0</td>\n",
              "      <td>0</td>\n",
              "      <td>0</td>\n",
              "      <td>0</td>\n",
              "      <td>0</td>\n",
              "      <td>0</td>\n",
              "      <td>0</td>\n",
              "      <td>0</td>\n",
              "    </tr>\n",
              "    <tr>\n",
              "      <th>14999</th>\n",
              "      <td>52.0</td>\n",
              "      <td>57</td>\n",
              "      <td>26.4</td>\n",
              "      <td>3</td>\n",
              "      <td>72</td>\n",
              "      <td>1</td>\n",
              "      <td>0</td>\n",
              "      <td>0</td>\n",
              "      <td>0</td>\n",
              "      <td>0</td>\n",
              "      <td>...</td>\n",
              "      <td>0</td>\n",
              "      <td>0</td>\n",
              "      <td>0</td>\n",
              "      <td>1</td>\n",
              "      <td>0</td>\n",
              "      <td>0</td>\n",
              "      <td>0</td>\n",
              "      <td>0</td>\n",
              "      <td>0</td>\n",
              "      <td>0</td>\n",
              "    </tr>\n",
              "  </tbody>\n",
              "</table>\n",
              "<p>15000 rows × 52 columns</p>\n",
              "</div>\n",
              "      <button class=\"colab-df-convert\" onclick=\"convertToInteractive('df-37f454e8-b8bb-4954-8a59-de87e1ecb830')\"\n",
              "              title=\"Convert this dataframe to an interactive table.\"\n",
              "              style=\"display:none;\">\n",
              "        \n",
              "  <svg xmlns=\"http://www.w3.org/2000/svg\" height=\"24px\"viewBox=\"0 0 24 24\"\n",
              "       width=\"24px\">\n",
              "    <path d=\"M0 0h24v24H0V0z\" fill=\"none\"/>\n",
              "    <path d=\"M18.56 5.44l.94 2.06.94-2.06 2.06-.94-2.06-.94-.94-2.06-.94 2.06-2.06.94zm-11 1L8.5 8.5l.94-2.06 2.06-.94-2.06-.94L8.5 2.5l-.94 2.06-2.06.94zm10 10l.94 2.06.94-2.06 2.06-.94-2.06-.94-.94-2.06-.94 2.06-2.06.94z\"/><path d=\"M17.41 7.96l-1.37-1.37c-.4-.4-.92-.59-1.43-.59-.52 0-1.04.2-1.43.59L10.3 9.45l-7.72 7.72c-.78.78-.78 2.05 0 2.83L4 21.41c.39.39.9.59 1.41.59.51 0 1.02-.2 1.41-.59l7.78-7.78 2.81-2.81c.8-.78.8-2.07 0-2.86zM5.41 20L4 18.59l7.72-7.72 1.47 1.35L5.41 20z\"/>\n",
              "  </svg>\n",
              "      </button>\n",
              "      \n",
              "  <style>\n",
              "    .colab-df-container {\n",
              "      display:flex;\n",
              "      flex-wrap:wrap;\n",
              "      gap: 12px;\n",
              "    }\n",
              "\n",
              "    .colab-df-convert {\n",
              "      background-color: #E8F0FE;\n",
              "      border: none;\n",
              "      border-radius: 50%;\n",
              "      cursor: pointer;\n",
              "      display: none;\n",
              "      fill: #1967D2;\n",
              "      height: 32px;\n",
              "      padding: 0 0 0 0;\n",
              "      width: 32px;\n",
              "    }\n",
              "\n",
              "    .colab-df-convert:hover {\n",
              "      background-color: #E2EBFA;\n",
              "      box-shadow: 0px 1px 2px rgba(60, 64, 67, 0.3), 0px 1px 3px 1px rgba(60, 64, 67, 0.15);\n",
              "      fill: #174EA6;\n",
              "    }\n",
              "\n",
              "    [theme=dark] .colab-df-convert {\n",
              "      background-color: #3B4455;\n",
              "      fill: #D2E3FC;\n",
              "    }\n",
              "\n",
              "    [theme=dark] .colab-df-convert:hover {\n",
              "      background-color: #434B5C;\n",
              "      box-shadow: 0px 1px 3px 1px rgba(0, 0, 0, 0.15);\n",
              "      filter: drop-shadow(0px 1px 2px rgba(0, 0, 0, 0.3));\n",
              "      fill: #FFFFFF;\n",
              "    }\n",
              "  </style>\n",
              "\n",
              "      <script>\n",
              "        const buttonEl =\n",
              "          document.querySelector('#df-37f454e8-b8bb-4954-8a59-de87e1ecb830 button.colab-df-convert');\n",
              "        buttonEl.style.display =\n",
              "          google.colab.kernel.accessAllowed ? 'block' : 'none';\n",
              "\n",
              "        async function convertToInteractive(key) {\n",
              "          const element = document.querySelector('#df-37f454e8-b8bb-4954-8a59-de87e1ecb830');\n",
              "          const dataTable =\n",
              "            await google.colab.kernel.invokeFunction('convertToInteractive',\n",
              "                                                     [key], {});\n",
              "          if (!dataTable) return;\n",
              "\n",
              "          const docLinkHtml = 'Like what you see? Visit the ' +\n",
              "            '<a target=\"_blank\" href=https://colab.research.google.com/notebooks/data_table.ipynb>data table notebook</a>'\n",
              "            + ' to learn more about interactive tables.';\n",
              "          element.innerHTML = '';\n",
              "          dataTable['output_type'] = 'display_data';\n",
              "          await google.colab.output.renderOutput(dataTable, element);\n",
              "          const docLink = document.createElement('div');\n",
              "          docLink.innerHTML = docLinkHtml;\n",
              "          element.appendChild(docLink);\n",
              "        }\n",
              "      </script>\n",
              "    </div>\n",
              "  </div>\n",
              "  "
            ]
          },
          "metadata": {},
          "execution_count": 63
        }
      ],
      "source": [
        "x"
      ]
    },
    {
      "cell_type": "markdown",
      "metadata": {
        "id": "6dvrbm6HABXe"
      },
      "source": [
        "#feature scaling :standardzation"
      ]
    },
    {
      "cell_type": "code",
      "execution_count": 64,
      "metadata": {
        "id": "EYdUVAc2UZdu"
      },
      "outputs": [],
      "source": [
        "from sklearn.preprocessing import StandardScaler\n",
        "sc=StandardScaler()\n",
        "x_scaled=sc.fit_transform(x)\n",
        "y_scaled=sc.fit_transform(y)\n",
        "#need for feature scaling in deep learning is for faster computation and calculation of derivaties and updation of weights,bias easily"
      ]
    },
    {
      "cell_type": "code",
      "execution_count": 65,
      "metadata": {
        "colab": {
          "base_uri": "https://localhost:8080/"
        },
        "id": "FmHvZwEx0g8n",
        "outputId": "a8ddc5cc-fec1-4cee-eb04-d84075b7264e"
      },
      "outputs": [
        {
          "output_type": "execute_result",
          "data": {
            "text/plain": [
              "array([[ 1.47892959, -0.066387  , -1.00708994, ..., -0.22844814,\n",
              "        -0.31063037, -0.13867034],\n",
              "       [ 0.68351375,  0.73644611, -1.2940384 , ..., -0.22844814,\n",
              "        -0.31063037, -0.13867034],\n",
              "       [-0.54576526, -0.066387  , -2.1042458 , ..., -0.22844814,\n",
              "        -0.31063037, -0.13867034],\n",
              "       ...,\n",
              "       [-1.41349163, -0.21235666,  0.51204893, ..., -0.22844814,\n",
              "        -0.31063037, -0.13867034],\n",
              "       [ 0.90044535,  1.68524887,  1.08594584, ..., -0.22844814,\n",
              "        -0.31063037, -0.13867034],\n",
              "       [ 0.90044535, -0.57728079, -0.65262421, ..., -0.22844814,\n",
              "        -0.31063037, -0.13867034]])"
            ]
          },
          "metadata": {},
          "execution_count": 65
        }
      ],
      "source": [
        "x_scaled"
      ]
    },
    {
      "cell_type": "code",
      "execution_count": 66,
      "metadata": {
        "colab": {
          "base_uri": "https://localhost:8080/"
        },
        "id": "v9iLffA90iQ8",
        "outputId": "36a92127-14f5-4c11-b3dd-a98d7fe6a469"
      },
      "outputs": [
        {
          "output_type": "execute_result",
          "data": {
            "text/plain": [
              "array([[-0.02377688],\n",
              "       [-0.31564783],\n",
              "       [ 1.59145748],\n",
              "       ...,\n",
              "       [-0.98864843],\n",
              "       [-0.35041946],\n",
              "       [ 1.03651085]])"
            ]
          },
          "metadata": {},
          "execution_count": 66
        }
      ],
      "source": [
        "y_scaled"
      ]
    },
    {
      "cell_type": "markdown",
      "metadata": {
        "id": "O8Njemg5AVb7"
      },
      "source": [
        "#Test train split"
      ]
    },
    {
      "cell_type": "code",
      "execution_count": 67,
      "metadata": {
        "id": "cgzZHro31a44"
      },
      "outputs": [],
      "source": [
        "from sklearn.model_selection import train_test_split\n",
        "x_train,x_test,y_train,y_test = train_test_split(x_scaled,y_scaled,test_size=0.2)"
      ]
    },
    {
      "cell_type": "code",
      "execution_count": 68,
      "metadata": {
        "colab": {
          "base_uri": "https://localhost:8080/"
        },
        "id": "raMACeRv63AC",
        "outputId": "ad025412-6c5c-4558-ce50-13aa54c6f24f"
      },
      "outputs": [
        {
          "output_type": "execute_result",
          "data": {
            "text/plain": [
              "array([[-0.18421261, -0.65026562,  1.00154924, ...,  4.37736111,\n",
              "        -0.31063037, -0.13867034],\n",
              "       [-0.25652314, -0.21235666,  0.59644554, ..., -0.22844814,\n",
              "        -0.31063037, -0.13867034],\n",
              "       [-1.3411811 , -0.94220493, -0.58510692, ..., -0.22844814,\n",
              "        -0.31063037, -0.13867034],\n",
              "       ...,\n",
              "       [-0.47345473, -0.21235666, -0.50071032, ..., -0.22844814,\n",
              "        -0.31063037, -0.13867034],\n",
              "       [-0.83500739,  0.07958266, -1.2940384 , ..., -0.22844814,\n",
              "        -0.31063037, -0.13867034],\n",
              "       [-1.55811269, -0.65026562, -0.99021062, ..., -0.22844814,\n",
              "        -0.31063037, -0.13867034]])"
            ]
          },
          "metadata": {},
          "execution_count": 68
        }
      ],
      "source": [
        "x_train"
      ]
    },
    {
      "cell_type": "code",
      "execution_count": 69,
      "metadata": {
        "colab": {
          "base_uri": "https://localhost:8080/"
        },
        "id": "di6j8di05CoR",
        "outputId": "df0c808c-967d-40b7-a85f-f1b624f8ce2c"
      },
      "outputs": [
        {
          "output_type": "execute_result",
          "data": {
            "text/plain": [
              "array([[ 0.47854309],\n",
              "       [-0.6605241 ],\n",
              "       [-0.97689324],\n",
              "       ...,\n",
              "       [ 2.04821378],\n",
              "       [ 0.11136655],\n",
              "       [-0.96876834]])"
            ]
          },
          "metadata": {},
          "execution_count": 69
        }
      ],
      "source": [
        "y_train"
      ]
    },
    {
      "cell_type": "markdown",
      "metadata": {
        "id": "HO-04LJwAdZ7"
      },
      "source": [
        "#Hyperparameters\n",
        "finding the appropriate number of layers,neurons,activation functions,batch size,epochs,etc requried to get the best model."
      ]
    },
    {
      "cell_type": "code",
      "execution_count": 70,
      "metadata": {
        "id": "NadvKq0ZhV35"
      },
      "outputs": [],
      "source": [
        "from sklearn.model_selection import GridSearchCV\n",
        "from keras.wrappers.scikit_learn import KerasClassifier\n",
        "from keras.models import Sequential\n",
        "from keras.layers import Dense,Activation,Embedding,Flatten,LeakyReLU,BatchNormalization,Dropout"
      ]
    },
    {
      "cell_type": "code",
      "execution_count": 71,
      "metadata": {
        "id": "cHeCyUcLhV7c"
      },
      "outputs": [],
      "source": [
        "def create_model(layers,activation):\n",
        "  model=Sequential()\n",
        "  for i, nodes in enumerate(layers):\n",
        "    if i==0:\n",
        "      model.add(Dense(nodes,input_dim=x_train.shape[1]))\n",
        "      model.add(Activation(activation))\n",
        "      model.add(Dropout(0.3))\n",
        "    else:\n",
        "      model.add(Dense(nodes))\n",
        "      model.add(Activation(activation))\n",
        "      model.add(Dropout(0.3))\n",
        "  model.add(Dense(units=1))\n",
        "  model.compile(\n",
        "      optimizer='adam',\n",
        "      loss='mse',\n",
        "      metrics=['accuracy']\n",
        "  )\n",
        "  return model"
      ]
    },
    {
      "cell_type": "code",
      "execution_count": 72,
      "metadata": {
        "colab": {
          "base_uri": "https://localhost:8080/"
        },
        "id": "uwYJEP1vhV-7",
        "outputId": "d1c6ae1e-efa0-44c0-c6fe-628c113957f4"
      },
      "outputs": [
        {
          "output_type": "stream",
          "name": "stderr",
          "text": [
            "<ipython-input-72-d4b295176c51>:1: DeprecationWarning: KerasClassifier is deprecated, use Sci-Keras (https://github.com/adriangb/scikeras) instead. See https://www.adriangb.com/scikeras/stable/migration.html for help migrating.\n",
            "  model = KerasClassifier(build_fn=create_model,verbose=0)\n"
          ]
        }
      ],
      "source": [
        "model = KerasClassifier(build_fn=create_model,verbose=0)"
      ]
    },
    {
      "cell_type": "code",
      "source": [
        "layers = [[52,52,52],[20,20,20],[30,30,30]]\n",
        "activations = ['elu','relu']\n",
        "param_grid = dict(layers=layers,activation=activations,epochs=[50,100])\n",
        "grid = GridSearchCV(estimator=model,param_grid=param_grid,cv=5)\n",
        "grid_result=grid.fit(x_train,y_train)"
      ],
      "metadata": {
        "id": "msAxWMBMlMyf"
      },
      "execution_count": null,
      "outputs": []
    },
    {
      "cell_type": "code",
      "source": [
        "print(grid_result.best_score_,grid_result.best_params_)"
      ],
      "metadata": {
        "id": "wnoEh7LGlVKy"
      },
      "execution_count": null,
      "outputs": []
    },
    {
      "cell_type": "markdown",
      "metadata": {
        "id": "irboeJQZBYhi"
      },
      "source": [
        "findings suggest that a model with\n",
        "\n",
        "\n",
        "*   3 layers\n",
        "*   each with 52 neurons\n",
        "*   50 epochs\n",
        "*   elu activation function\n",
        "\n",
        "\n",
        "\n",
        "\n",
        "\n",
        "\n",
        "\n"
      ]
    },
    {
      "cell_type": "markdown",
      "source": [
        "#**MODEL BUILDING (ANN)**"
      ],
      "metadata": {
        "id": "_XS5FAqs1XW7"
      }
    },
    {
      "cell_type": "code",
      "execution_count": 73,
      "metadata": {
        "id": "zOfwWcebhWIg"
      },
      "outputs": [],
      "source": [
        "model=keras.models.Sequential([\n",
        "    keras.layers.Dense(units=52,input_dim = 52,activation=\"elu\",kernel_initializer='he_normal'),\n",
        "      \n",
        "    keras.layers.Dense(units=52,activation=\"elu\",kernel_initializer='he_normal'),\n",
        " \n",
        "    keras.layers.Dense(units=52,activation=\"elu\",kernel_initializer='he_normal'),\n",
        "   \n",
        "    keras.layers.Dense(units=1)\n",
        "]\n",
        "    \n",
        ")\n",
        "model.compile(\n",
        "    loss=\"mae\",\n",
        "  optimizer=tf.keras.optimizers.Adam(learning_rate=1e-3),\n",
        "    metrics=['mae']\n",
        "\n",
        ")"
      ]
    },
    {
      "cell_type": "code",
      "execution_count": 74,
      "metadata": {
        "colab": {
          "base_uri": "https://localhost:8080/"
        },
        "id": "vhuPSIQ8hWLg",
        "outputId": "49f83c0a-f657-47a8-e506-27c3b2552833"
      },
      "outputs": [
        {
          "output_type": "stream",
          "name": "stdout",
          "text": [
            "Epoch 1/50\n",
            "338/338 [==============================] - 1s 3ms/step - loss: 0.4476 - mae: 0.4476 - val_loss: 0.3025 - val_mae: 0.3025\n",
            "Epoch 2/50\n",
            "338/338 [==============================] - 1s 3ms/step - loss: 0.2735 - mae: 0.2735 - val_loss: 0.2494 - val_mae: 0.2494\n",
            "Epoch 3/50\n",
            "338/338 [==============================] - 1s 3ms/step - loss: 0.2362 - mae: 0.2362 - val_loss: 0.2189 - val_mae: 0.2189\n",
            "Epoch 4/50\n",
            "338/338 [==============================] - 1s 3ms/step - loss: 0.2196 - mae: 0.2196 - val_loss: 0.2110 - val_mae: 0.2110\n",
            "Epoch 5/50\n",
            "338/338 [==============================] - 1s 3ms/step - loss: 0.2027 - mae: 0.2027 - val_loss: 0.1892 - val_mae: 0.1892\n",
            "Epoch 6/50\n",
            "338/338 [==============================] - 1s 3ms/step - loss: 0.1925 - mae: 0.1925 - val_loss: 0.1920 - val_mae: 0.1920\n",
            "Epoch 7/50\n",
            "338/338 [==============================] - 1s 3ms/step - loss: 0.1848 - mae: 0.1848 - val_loss: 0.1860 - val_mae: 0.1860\n",
            "Epoch 8/50\n",
            "338/338 [==============================] - 1s 3ms/step - loss: 0.1779 - mae: 0.1779 - val_loss: 0.1891 - val_mae: 0.1891\n",
            "Epoch 9/50\n",
            "338/338 [==============================] - 1s 3ms/step - loss: 0.1768 - mae: 0.1768 - val_loss: 0.1934 - val_mae: 0.1934\n",
            "Epoch 10/50\n",
            "338/338 [==============================] - 1s 4ms/step - loss: 0.1708 - mae: 0.1708 - val_loss: 0.1761 - val_mae: 0.1761\n",
            "Epoch 11/50\n",
            "338/338 [==============================] - 1s 4ms/step - loss: 0.1662 - mae: 0.1662 - val_loss: 0.1831 - val_mae: 0.1831\n",
            "Epoch 12/50\n",
            "338/338 [==============================] - 1s 4ms/step - loss: 0.1636 - mae: 0.1636 - val_loss: 0.1774 - val_mae: 0.1774\n",
            "Epoch 13/50\n",
            "338/338 [==============================] - 1s 3ms/step - loss: 0.1607 - mae: 0.1607 - val_loss: 0.1725 - val_mae: 0.1725\n",
            "Epoch 14/50\n",
            "338/338 [==============================] - 1s 3ms/step - loss: 0.1559 - mae: 0.1559 - val_loss: 0.1628 - val_mae: 0.1628\n",
            "Epoch 15/50\n",
            "338/338 [==============================] - 1s 3ms/step - loss: 0.1540 - mae: 0.1540 - val_loss: 0.1694 - val_mae: 0.1694\n",
            "Epoch 16/50\n",
            "338/338 [==============================] - 1s 3ms/step - loss: 0.1520 - mae: 0.1520 - val_loss: 0.1603 - val_mae: 0.1603\n",
            "Epoch 17/50\n",
            "338/338 [==============================] - 1s 3ms/step - loss: 0.1466 - mae: 0.1466 - val_loss: 0.1642 - val_mae: 0.1642\n",
            "Epoch 18/50\n",
            "338/338 [==============================] - 1s 3ms/step - loss: 0.1456 - mae: 0.1456 - val_loss: 0.1578 - val_mae: 0.1578\n",
            "Epoch 19/50\n",
            "338/338 [==============================] - 1s 3ms/step - loss: 0.1428 - mae: 0.1428 - val_loss: 0.1585 - val_mae: 0.1585\n",
            "Epoch 20/50\n",
            "338/338 [==============================] - 1s 3ms/step - loss: 0.1383 - mae: 0.1383 - val_loss: 0.1487 - val_mae: 0.1487\n",
            "Epoch 21/50\n",
            "338/338 [==============================] - 1s 4ms/step - loss: 0.1398 - mae: 0.1398 - val_loss: 0.1516 - val_mae: 0.1516\n",
            "Epoch 22/50\n",
            "338/338 [==============================] - 1s 3ms/step - loss: 0.1337 - mae: 0.1337 - val_loss: 0.1495 - val_mae: 0.1495\n",
            "Epoch 23/50\n",
            "338/338 [==============================] - 1s 4ms/step - loss: 0.1324 - mae: 0.1324 - val_loss: 0.1484 - val_mae: 0.1484\n",
            "Epoch 24/50\n",
            "338/338 [==============================] - 1s 4ms/step - loss: 0.1290 - mae: 0.1290 - val_loss: 0.1421 - val_mae: 0.1421\n",
            "Epoch 25/50\n",
            "338/338 [==============================] - 1s 3ms/step - loss: 0.1266 - mae: 0.1266 - val_loss: 0.1414 - val_mae: 0.1414\n",
            "Epoch 26/50\n",
            "338/338 [==============================] - 1s 3ms/step - loss: 0.1254 - mae: 0.1254 - val_loss: 0.1425 - val_mae: 0.1425\n",
            "Epoch 27/50\n",
            "338/338 [==============================] - 1s 3ms/step - loss: 0.1241 - mae: 0.1241 - val_loss: 0.1356 - val_mae: 0.1356\n",
            "Epoch 28/50\n",
            "338/338 [==============================] - 1s 3ms/step - loss: 0.1228 - mae: 0.1228 - val_loss: 0.1429 - val_mae: 0.1429\n",
            "Epoch 29/50\n",
            "338/338 [==============================] - 1s 3ms/step - loss: 0.1196 - mae: 0.1196 - val_loss: 0.1401 - val_mae: 0.1401\n",
            "Epoch 30/50\n",
            "338/338 [==============================] - 1s 3ms/step - loss: 0.1174 - mae: 0.1174 - val_loss: 0.1307 - val_mae: 0.1307\n",
            "Epoch 31/50\n",
            "338/338 [==============================] - 1s 3ms/step - loss: 0.1160 - mae: 0.1160 - val_loss: 0.1272 - val_mae: 0.1272\n",
            "Epoch 32/50\n",
            "338/338 [==============================] - 1s 3ms/step - loss: 0.1154 - mae: 0.1154 - val_loss: 0.1336 - val_mae: 0.1336\n",
            "Epoch 33/50\n",
            "338/338 [==============================] - 1s 3ms/step - loss: 0.1142 - mae: 0.1142 - val_loss: 0.1319 - val_mae: 0.1319\n",
            "Epoch 34/50\n",
            "338/338 [==============================] - 1s 3ms/step - loss: 0.1116 - mae: 0.1116 - val_loss: 0.1226 - val_mae: 0.1226\n",
            "Epoch 35/50\n",
            "338/338 [==============================] - 1s 4ms/step - loss: 0.1095 - mae: 0.1095 - val_loss: 0.1209 - val_mae: 0.1209\n",
            "Epoch 36/50\n",
            "338/338 [==============================] - 1s 4ms/step - loss: 0.1092 - mae: 0.1092 - val_loss: 0.1278 - val_mae: 0.1278\n",
            "Epoch 37/50\n",
            "338/338 [==============================] - 2s 5ms/step - loss: 0.1069 - mae: 0.1069 - val_loss: 0.1146 - val_mae: 0.1146\n",
            "Epoch 38/50\n",
            "338/338 [==============================] - 1s 3ms/step - loss: 0.1037 - mae: 0.1037 - val_loss: 0.1175 - val_mae: 0.1175\n",
            "Epoch 39/50\n",
            "338/338 [==============================] - 1s 3ms/step - loss: 0.1018 - mae: 0.1018 - val_loss: 0.1221 - val_mae: 0.1221\n",
            "Epoch 40/50\n",
            "338/338 [==============================] - 1s 3ms/step - loss: 0.0991 - mae: 0.0991 - val_loss: 0.1171 - val_mae: 0.1171\n",
            "Epoch 41/50\n",
            "338/338 [==============================] - 1s 3ms/step - loss: 0.1008 - mae: 0.1008 - val_loss: 0.1137 - val_mae: 0.1137\n",
            "Epoch 42/50\n",
            "338/338 [==============================] - 1s 3ms/step - loss: 0.0969 - mae: 0.0969 - val_loss: 0.1031 - val_mae: 0.1031\n",
            "Epoch 43/50\n",
            "338/338 [==============================] - 1s 3ms/step - loss: 0.0993 - mae: 0.0993 - val_loss: 0.1170 - val_mae: 0.1170\n",
            "Epoch 44/50\n",
            "338/338 [==============================] - 1s 3ms/step - loss: 0.0941 - mae: 0.0941 - val_loss: 0.1121 - val_mae: 0.1121\n",
            "Epoch 45/50\n",
            "338/338 [==============================] - 1s 3ms/step - loss: 0.0939 - mae: 0.0939 - val_loss: 0.1022 - val_mae: 0.1022\n",
            "Epoch 46/50\n",
            "338/338 [==============================] - 1s 3ms/step - loss: 0.0931 - mae: 0.0931 - val_loss: 0.1092 - val_mae: 0.1092\n",
            "Epoch 47/50\n",
            "338/338 [==============================] - 1s 3ms/step - loss: 0.0927 - mae: 0.0927 - val_loss: 0.1073 - val_mae: 0.1073\n",
            "Epoch 48/50\n",
            "338/338 [==============================] - 1s 4ms/step - loss: 0.0898 - mae: 0.0898 - val_loss: 0.1021 - val_mae: 0.1021\n",
            "Epoch 49/50\n",
            "338/338 [==============================] - 1s 4ms/step - loss: 0.0893 - mae: 0.0893 - val_loss: 0.1082 - val_mae: 0.1082\n",
            "Epoch 50/50\n",
            "338/338 [==============================] - 1s 4ms/step - loss: 0.0876 - mae: 0.0876 - val_loss: 0.1060 - val_mae: 0.1060\n"
          ]
        },
        {
          "output_type": "execute_result",
          "data": {
            "text/plain": [
              "<keras.callbacks.History at 0x7f7632f25700>"
            ]
          },
          "metadata": {},
          "execution_count": 74
        }
      ],
      "source": [
        "model.fit(x_train,y_train,validation_split=0.1,epochs=50)"
      ]
    },
    {
      "cell_type": "code",
      "execution_count": 75,
      "metadata": {
        "colab": {
          "base_uri": "https://localhost:8080/"
        },
        "id": "P9-TiOKT594k",
        "outputId": "fb066b95-7edb-4000-9960-06f751a637ce"
      },
      "outputs": [
        {
          "output_type": "stream",
          "name": "stdout",
          "text": [
            "94/94 [==============================] - 0s 2ms/step - loss: 0.1067 - mae: 0.1067\n"
          ]
        },
        {
          "output_type": "execute_result",
          "data": {
            "text/plain": [
              "[0.10673107951879501, 0.10673107951879501]"
            ]
          },
          "metadata": {},
          "execution_count": 75
        }
      ],
      "source": [
        "model.evaluate(x_test,y_test)"
      ]
    },
    {
      "cell_type": "code",
      "execution_count": 76,
      "metadata": {
        "colab": {
          "base_uri": "https://localhost:8080/"
        },
        "id": "LWrCJwu-gUYX",
        "outputId": "b888c902-daf1-424f-c470-3b7d26f212b8"
      },
      "outputs": [
        {
          "output_type": "stream",
          "name": "stdout",
          "text": [
            "94/94 [==============================] - 0s 1ms/step\n"
          ]
        }
      ],
      "source": [
        "y_pred=model.predict(x_test)"
      ]
    },
    {
      "cell_type": "code",
      "execution_count": 77,
      "metadata": {
        "colab": {
          "base_uri": "https://localhost:8080/"
        },
        "id": "hoe29qMKVX06",
        "outputId": "25d17e6e-62bf-4576-ad25-174f73f3f425"
      },
      "outputs": [
        {
          "output_type": "execute_result",
          "data": {
            "text/plain": [
              "array([[ 2.6972392 ],\n",
              "       [-0.4946013 ],\n",
              "       [-0.33997244],\n",
              "       ...,\n",
              "       [ 0.3775047 ],\n",
              "       [-0.17921178],\n",
              "       [ 2.6141558 ]], dtype=float32)"
            ]
          },
          "metadata": {},
          "execution_count": 77
        }
      ],
      "source": [
        "y_pred"
      ]
    },
    {
      "cell_type": "code",
      "execution_count": 78,
      "metadata": {
        "colab": {
          "base_uri": "https://localhost:8080/"
        },
        "id": "TAOknBgZVaOl",
        "outputId": "be21b48f-3e1a-45d5-e696-767a0c6891f0"
      },
      "outputs": [
        {
          "output_type": "execute_result",
          "data": {
            "text/plain": [
              "array([[ 2.70448712],\n",
              "       [-0.50019924],\n",
              "       [-0.37292552],\n",
              "       ...,\n",
              "       [ 1.03651085],\n",
              "       [-0.19655664],\n",
              "       [ 2.5518097 ]])"
            ]
          },
          "metadata": {},
          "execution_count": 78
        }
      ],
      "source": [
        "y_test"
      ]
    },
    {
      "cell_type": "code",
      "execution_count": 79,
      "metadata": {
        "colab": {
          "base_uri": "https://localhost:8080/"
        },
        "id": "5fy_T1BPVdER",
        "outputId": "194e7609-6291-4d05-ffe0-37342ed60040"
      },
      "outputs": [
        {
          "output_type": "stream",
          "name": "stdout",
          "text": [
            "R_square value :  0.9457244436004562\n"
          ]
        }
      ],
      "source": [
        "from sklearn import metrics\n",
        "\n",
        "r2= metrics.r2_score(y_test,y_pred)\n",
        "print(\"R_square value : \",r2)"
      ]
    },
    {
      "cell_type": "code",
      "execution_count": 80,
      "metadata": {
        "id": "___IzCRoV_Nx",
        "colab": {
          "base_uri": "https://localhost:8080/"
        },
        "outputId": "7ef8c1bf-b795-433e-f33b-8644db7eb7ac"
      },
      "outputs": [
        {
          "output_type": "stream",
          "name": "stdout",
          "text": [
            "mean square error:  0.054290184569238266\n"
          ]
        }
      ],
      "source": [
        "mse1= metrics.mean_squared_error(y_test,y_pred)\n",
        "print(\"mean square error: \", mse1)"
      ]
    },
    {
      "cell_type": "code",
      "source": [],
      "metadata": {
        "id": "SOYevxf5pmQ2"
      },
      "execution_count": null,
      "outputs": []
    }
  ],
  "metadata": {
    "accelerator": "GPU",
    "colab": {
      "provenance": [],
      "collapsed_sections": [
        "6e86FI-36W4K",
        "Syi8K42h6W-K"
      ],
      "mount_file_id": "1jHTkPn5VLlghg2M7_rH4rnUo16JFQY5n",
      "authorship_tag": "ABX9TyMd33Pe2iU6oa53h//bajfM",
      "include_colab_link": true
    },
    "gpuClass": "standard",
    "kernelspec": {
      "display_name": "Python 3",
      "name": "python3"
    },
    "language_info": {
      "name": "python"
    }
  },
  "nbformat": 4,
  "nbformat_minor": 0
}